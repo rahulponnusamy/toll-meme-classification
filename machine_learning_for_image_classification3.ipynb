{
  "cells": [
    {
      "cell_type": "code",
      "source": [
        "!pip install opencv-python"
      ],
      "metadata": {
        "colab": {
          "base_uri": "https://localhost:8080/"
        },
        "id": "DbzGy-iyTq9Y",
        "outputId": "f7a935f3-02a8-4b4a-9386-18e20a2ac33a"
      },
      "execution_count": null,
      "outputs": [
        {
          "output_type": "stream",
          "name": "stdout",
          "text": [
            "Requirement already satisfied: opencv-python in /usr/local/lib/python3.7/dist-packages (4.1.2.30)\n",
            "Requirement already satisfied: numpy>=1.14.5 in /usr/local/lib/python3.7/dist-packages (from opencv-python) (1.19.5)\n"
          ]
        }
      ]
    },
    {
      "cell_type": "code",
      "execution_count": null,
      "metadata": {
        "colab": {
          "base_uri": "https://localhost:8080/"
        },
        "id": "E-tGXcC-bWnL",
        "outputId": "7cdfb542-244a-4bf5-d62d-4d9c112606a3"
      },
      "outputs": [
        {
          "output_type": "stream",
          "name": "stdout",
          "text": [
            "Mounted at /content/drive\n"
          ]
        }
      ],
      "source": [
        "from google.colab import drive\n",
        "drive.mount('/content/drive')"
      ]
    },
    {
      "cell_type": "code",
      "execution_count": null,
      "metadata": {
        "id": "CtppxXKiaJ1e"
      },
      "outputs": [],
      "source": [
        "# import necessary packages\n",
        "import os\n",
        "import cv2\n",
        "import numpy as np\n",
        "import pandas as pd\n",
        "from sklearn.neighbors import KNeighborsClassifier\n",
        "from sklearn.svm import SVC\n",
        "from sklearn.preprocessing import LabelEncoder\n",
        "from sklearn.model_selection import  train_test_split\n",
        "from sklearn.metrics import classification_report, confusion_matrix\n",
        "from imutils import paths\n",
        "\n",
        "import skimage\n",
        "import sys\n",
        "from skimage import io, color\n",
        "from skimage.io import imread, imshow\n",
        "from skimage.filters import threshold_otsu\n",
        "from skimage.feature import canny \n",
        "from skimage.transform import resize\n",
        "from skimage.color import rgb2hsv\n",
        "from skimage.color import rgb2gray\n",
        "import skimage.feature"
      ]
    },
    {
      "cell_type": "code",
      "execution_count": null,
      "metadata": {
        "id": "VPKioMw-4ctz"
      },
      "outputs": [],
      "source": [
        "# function to get input images from folder\n",
        "def getListOfFiles(dirName):\n",
        "    # create a list of file and sub directories\n",
        "    # names in the given directory\n",
        "    listOfFile = os.listdir(dirName)\n",
        "    allFiles = list()\n",
        "    # Iterate over all the entries\n",
        "    for entry in listOfFile:\n",
        "        # Create full path\n",
        "        fullPath = os.path.join(dirName, entry)\n",
        "        # If entry is a directory then get the list of files in this directory\n",
        "        if os.path.isdir(fullPath):\n",
        "            allFiles = allFiles + getListOfFiles(fullPath)\n",
        "        else:\n",
        "            allFiles.append(fullPath)\n",
        "    return allFiles\n",
        "\n",
        "\n",
        "# setting labels\n",
        "def labeling(train):\n",
        "  train['Label'] = train['imagename'].str.replace('\\d+', '')\n",
        "  train['Label'] = train['Label'].str.replace('_.jpg', '')\n",
        "  train['Label'] = train['Label'].str.replace('_.png', '')\n",
        "  return train['Label']\n",
        "\n",
        "# encoding labels\n",
        "def encodelabels(labels):  \n",
        "  Encoder = LabelEncoder()\n",
        "  labels =  Encoder.fit_transform(labels)                                                       \n",
        "  return labels\n"
      ]
    },
    {
      "cell_type": "code",
      "execution_count": null,
      "metadata": {
        "id": "DWHBvmU66FgA"
      },
      "outputs": [],
      "source": [
        "# getting image files\n",
        "imagePaths = getListOfFiles(\"/content/drive/MyDrive/IITMK/sem3/CV term paper/datasets/Tamil_troll_memes/training_img/\") ## Folder structure: datasets --> sub-folders with labels name\n",
        "#print(imagePaths)\n",
        "\n",
        "# setting up labels\n",
        "df = pd.read_csv('/content/drive/MyDrive/IITMK/sem3/CV term paper/datasets/Tamil_troll_memes/train_captions.csv',sep=',')\n",
        "labels = labeling(df)\n",
        "labels= encodelabels(df['Label'])\n"
      ]
    },
    {
      "cell_type": "code",
      "source": [
        "import skimage\n",
        "from skimage import io, color\n",
        "from skimage.io import imread, imshow\n",
        "from skimage.filters import threshold_otsu \n",
        "  \n",
        "\n",
        "data = []\n",
        "for image in imagePaths:\n",
        "  img = cv2.imread(image)  \n",
        "  img = cv2.GaussianBlur(img,(5,5),0)\n",
        "  img = cv2.cvtColor(img , cv2.COLOR_BGR2RGB)\n",
        "  img = cv2.resize(img, (224, 224), interpolation=cv2.INTER_LINEAR)\n",
        "  img = cv2.cvtColor(img, cv2.COLOR_RGB2GRAY)\n",
        "  # threshold_value = threshold_otsu(img)\n",
        "  # img_threshold = img > threshold_value  \n",
        "  ret,img_threshold = cv2.threshold(img,127,255,cv2.THRESH_OTSU)\n",
        "\n",
        "  data.append(img_threshold)\n"
      ],
      "metadata": {
        "id": "722_M_1gCjmP"
      },
      "execution_count": null,
      "outputs": []
    },
    {
      "cell_type": "markdown",
      "metadata": {
        "id": "KZd8sfiFxPvj"
      },
      "source": [
        "### visualization of thresholds "
      ]
    },
    {
      "cell_type": "code",
      "execution_count": null,
      "metadata": {
        "id": "zhLpyu7bw412",
        "colab": {
          "base_uri": "https://localhost:8080/",
          "height": 233
        },
        "outputId": "cc0fb30e-992d-452a-c95a-27ce3522c9a1"
      },
      "outputs": [
        {
          "output_type": "display_data",
          "data": {
            "image/png": "[encoded data removed]",
            "text/plain": [
              "<Figure size 432x288 with 6 Axes>"
            ]
          },
          "metadata": {}
        }
      ],
      "source": [
        "# import cv2 as cv\n",
        "# import numpy as np\n",
        "# from matplotlib import pyplot as plt\n",
        "# img = cv.imread('/content/drive/MyDrive/IITMK/sem3/CV term paper/datasets/Tamil_troll_memes/training_img/train/Not_troll_100.jpg',0)\n",
        "# ret,thresh1 = cv.threshold(img,127,255,cv.THRESH_BINARY)\n",
        "# ret,thresh2 = cv.threshold(img,127,255,cv.THRESH_BINARY_INV)\n",
        "# ret,thresh3 = cv.threshold(img,127,255,cv.THRESH_TRUNC)\n",
        "# ret,thresh4 = cv.threshold(img,127,255,cv.THRESH_TOZERO)\n",
        "# ret,thresh5 = cv.threshold(img,127,255,cv.THRESH_TOZERO_INV)\n",
        "# titles = ['Original Image','BINARY','BINARY_INV','TRUNC','TOZERO','TOZERO_INV']\n",
        "# images = [img, thresh1, thresh2, thresh3, thresh4, thresh5]\n",
        "# for i in range(6):\n",
        "#     plt.subplot(2,3,i+1),plt.imshow(images[i],'gray',vmin=0,vmax=255)\n",
        "#     plt.title(titles[i])\n",
        "#     plt.xticks([]),plt.yticks([])\n",
        "# plt.show()"
      ]
    },
    {
      "cell_type": "code",
      "execution_count": null,
      "metadata": {
        "id": "wj0aNM26m_Hl"
      },
      "outputs": [],
      "source": [
        ""
      ]
    },
    {
      "cell_type": "code",
      "execution_count": null,
      "metadata": {
        "colab": {
          "base_uri": "https://localhost:8080/"
        },
        "id": "OKX1cSeu6Ij-",
        "outputId": "be80906e-b237-40c5-95da-b3dcf5a1c450"
      },
      "outputs": [
        {
          "output_type": "stream",
          "name": "stdout",
          "text": [
            "{0, 1}\n",
            "(2300, 50176)\n",
            "(2300,)\n",
            "2300\n",
            "[[257   0]\n",
            " [318   0]]\n",
            "              precision    recall  f1-score   support\n",
            "\n",
            "           0       0.45      1.00      0.62       257\n",
            "           1       0.00      0.00      0.00       318\n",
            "\n",
            "    accuracy                           0.45       575\n",
            "   macro avg       0.22      0.50      0.31       575\n",
            "weighted avg       0.20      0.45      0.28       575\n",
            "\n"
          ]
        },
        {
          "output_type": "stream",
          "name": "stderr",
          "text": [
            "/usr/local/lib/python3.7/dist-packages/sklearn/metrics/_classification.py:1308: UndefinedMetricWarning: Precision and F-score are ill-defined and being set to 0.0 in labels with no predicted samples. Use `zero_division` parameter to control this behavior.\n",
            "  _warn_prf(average, modifier, msg_start, len(result))\n",
            "/usr/local/lib/python3.7/dist-packages/sklearn/metrics/_classification.py:1308: UndefinedMetricWarning: Precision and F-score are ill-defined and being set to 0.0 in labels with no predicted samples. Use `zero_division` parameter to control this behavior.\n",
            "  _warn_prf(average, modifier, msg_start, len(result))\n",
            "/usr/local/lib/python3.7/dist-packages/sklearn/metrics/_classification.py:1308: UndefinedMetricWarning: Precision and F-score are ill-defined and being set to 0.0 in labels with no predicted samples. Use `zero_division` parameter to control this behavior.\n",
            "  _warn_prf(average, modifier, msg_start, len(result))\n"
          ]
        }
      ],
      "source": [
        "\n",
        "data = np.array(data)\n",
        "myset = set(labels)\n",
        "print(myset)\n",
        "\n",
        "dataset_size = data.shape[0]\n",
        "data = data.reshape(dataset_size,-1)\n",
        "\n",
        "print(data.shape)\n",
        "print(labels.shape)\n",
        "print(dataset_size)\n",
        "\n",
        "(trainX, testX, trainY, testY ) = train_test_split(data, labels, test_size= 0.25, random_state=42)\n",
        "\n",
        "model = KNeighborsClassifier(n_neighbors=3, n_jobs=-1)\n",
        "# model = SVC(C=10, kernel='sigmoid', degree = 3)\n",
        "model.fit(trainX, trainY)\n",
        "print(confusion_matrix(testY, model.predict(testX)))\n",
        "print(classification_report(testY, model.predict(testX)))"
      ]
    },
    {
      "cell_type": "code",
      "execution_count": null,
      "metadata": {
        "id": "DR4QOEdzD2hp"
      },
      "outputs": [],
      "source": [
        "print(data)"
      ]
    },
    {
      "cell_type": "code",
      "execution_count": null,
      "metadata": {
        "id": "6SpappB89W0m"
      },
      "outputs": [],
      "source": [
        "\n",
        "'''(2300, 150528)\n",
        "(2300,)\n",
        "2300\n",
        "\n",
        "########   Colored image   ###########\n",
        " \n",
        "# KNN\n",
        "[[100 157]\n",
        " [106 212]]\n",
        "              precision    recall  f1-score   support\n",
        "\n",
        "           0       0.49      0.39      0.43       257\n",
        "           1       0.57      0.67      0.62       318\n",
        "\n",
        "    accuracy                           0.54       575\n",
        "   macro avg       0.53      0.53      0.52       575\n",
        "weighted avg       0.53      0.54      0.53       575\n",
        "\n",
        "\n",
        "# SVM\n",
        "\n",
        "[[108 149]\n",
        " [165 153]]\n",
        "              precision    recall  f1-score   support\n",
        "\n",
        "           0       0.40      0.42      0.41       257\n",
        "           1       0.51      0.48      0.49       318\n",
        "\n",
        "    accuracy                           0.45       575\n",
        "   macro avg       0.45      0.45      0.45       575\n",
        "weighted avg       0.46      0.45      0.46       575\n",
        "\n",
        "\n",
        "\n",
        "######### grayscale image #########\n",
        "\n",
        "KNN\n",
        "\n",
        "[[ 92 165]\n",
        " [107 211]]\n",
        "              precision    recall  f1-score   support\n",
        "\n",
        "           0       0.46      0.36      0.40       257\n",
        "           1       0.56      0.66      0.61       318\n",
        "\n",
        "    accuracy                           0.53       575\n",
        "   macro avg       0.51      0.51      0.51       575\n",
        "weighted avg       0.52      0.53      0.52       575\n",
        "\n",
        "\n",
        "SVM\n",
        "\n",
        "\n",
        "[[107 150]\n",
        " [162 156]]\n",
        "              precision    recall  f1-score   support\n",
        "\n",
        "           0       0.40      0.42      0.41       257\n",
        "           1       0.51      0.49      0.50       318\n",
        "\n",
        "    accuracy                           0.46       575\n",
        "   macro avg       0.45      0.45      0.45       575\n",
        "weighted avg       0.46      0.46      0.46       575\n",
        "\n",
        "\n",
        "\n",
        "######### Simlple Threshold  ########\n",
        "\n",
        "KNN\n",
        "\n",
        "[[ 92 165]\n",
        " [107 211]]\n",
        "              precision    recall  f1-score   support\n",
        "\n",
        "           0       0.46      0.36      0.40       257\n",
        "           1       0.56      0.66      0.61       318\n",
        "\n",
        "    accuracy                           0.53       575\n",
        "   macro avg       0.51      0.51      0.51       575\n",
        "weighted avg       0.52      0.53      0.52       575\n",
        "\n",
        "\n",
        "SVM\n",
        "\n",
        "[[107 150]\n",
        " [162 156]]\n",
        "              precision    recall  f1-score   support\n",
        "\n",
        "           0       0.40      0.42      0.41       257\n",
        "           1       0.51      0.49      0.50       318\n",
        "\n",
        "    accuracy                           0.46       575\n",
        "   macro avg       0.45      0.45      0.45       575\n",
        "weighted avg       0.46      0.46      0.46       575\n",
        "\n",
        "\n",
        "########   Thereshold Binary  ########\n",
        "\n",
        "KNN\n",
        "\n",
        "[[257   0]\n",
        " [318   0]]\n",
        "              precision    recall  f1-score   support\n",
        "\n",
        "           0       0.45      1.00      0.62       257\n",
        "           1       0.00      0.00      0.00       318\n",
        "\n",
        "    accuracy                           0.45       575\n",
        "   macro avg       0.22      0.50      0.31       575\n",
        "weighted avg       0.20      0.45      0.28       575\n",
        "\n",
        "\n",
        "SVM\n",
        "\n",
        "[[  0 257]\n",
        " [  0 318]]\n",
        "              precision    recall  f1-score   support\n",
        "\n",
        "           0       0.00      0.00      0.00       257\n",
        "           1       0.55      1.00      0.71       318\n",
        "\n",
        "    accuracy                           0.55       575\n",
        "   macro avg       0.28      0.50      0.36       575\n",
        "weighted avg       0.31      0.55      0.39       575\n",
        "\n",
        "\n",
        "##########  Threshold binary inverted  ##########\n",
        "\n",
        "KNN\n",
        "\n",
        "{0, 1}\n",
        "(2300, 50176)\n",
        "(2300,)\n",
        "2300\n",
        "[[248   9]\n",
        " [312   6]]\n",
        "              precision    recall  f1-score   support\n",
        "\n",
        "           0       0.44      0.96      0.61       257\n",
        "           1       0.40      0.02      0.04       318\n",
        "\n",
        "    accuracy                           0.44       575\n",
        "   macro avg       0.42      0.49      0.32       575\n",
        "weighted avg       0.42      0.44      0.29       575\n",
        "\n",
        "\n",
        "SVM\n",
        "\n",
        "{0, 1}\n",
        "(2300, 50176)\n",
        "(2300,)\n",
        "2300\n",
        "[[  0 257]\n",
        " [  0 318]]\n",
        "              precision    recall  f1-score   support\n",
        "\n",
        "           0       0.00      0.00      0.00       257\n",
        "           1       0.55      1.00      0.71       318\n",
        "\n",
        "    accuracy                           0.55       575\n",
        "   macro avg       0.28      0.50      0.36       575\n",
        "weighted avg       0.31      0.55      0.39       575\n",
        "\n",
        "\n",
        "'''\n",
        "\n"
      ]
    }
  ],
  "metadata": {
    "colab": {
      "collapsed_sections": [],
      "name": "machine learning for image classification.ipynb",
      "provenance": []
    },
    "kernelspec": {
      "display_name": "Python 3",
      "name": "python3"
    },
    "language_info": {
      "name": "python"
    },
    "accelerator": "GPU"
  },
  "nbformat": 4,
  "nbformat_minor": 0
}